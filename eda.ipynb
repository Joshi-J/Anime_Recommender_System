{
 "cells": [
  {
   "attachments": {},
   "cell_type": "markdown",
   "metadata": {},
   "source": [
    "# 00 Setup Environment"
   ]
  },
  {
   "cell_type": "code",
   "execution_count": 3,
   "metadata": {},
   "outputs": [
    {
     "name": "stdout",
     "output_type": "stream",
     "text": [
      "Collecting ydata-profiling[notebook]\n",
      "  Downloading ydata_profiling-4.0.0-py2.py3-none-any.whl (344 kB)\n",
      "     -------------------------------------- 344.5/344.5 kB 7.1 MB/s eta 0:00:00\n",
      "Requirement already satisfied: requests<2.29,>=2.24.0 in c:\\users\\jj0sh\\anaconda3\\lib\\site-packages (from ydata-profiling[notebook]) (2.28.1)\n",
      "Requirement already satisfied: seaborn<0.13,>=0.10.1 in c:\\users\\jj0sh\\anaconda3\\lib\\site-packages (from ydata-profiling[notebook]) (0.12.2)\n",
      "Requirement already satisfied: statsmodels<0.14,>=0.13.2 in c:\\users\\jj0sh\\anaconda3\\lib\\site-packages (from ydata-profiling[notebook]) (0.13.2)\n",
      "Requirement already satisfied: PyYAML<6.1,>=5.0.0 in c:\\users\\jj0sh\\anaconda3\\lib\\site-packages (from ydata-profiling[notebook]) (6.0)\n",
      "Requirement already satisfied: tqdm<4.65,>=4.48.2 in c:\\users\\jj0sh\\anaconda3\\lib\\site-packages (from ydata-profiling[notebook]) (4.64.1)\n",
      "Requirement already satisfied: visions[type_image_path]==0.7.5 in c:\\users\\jj0sh\\anaconda3\\lib\\site-packages (from ydata-profiling[notebook]) (0.7.5)\n",
      "Requirement already satisfied: jinja2<3.2,>=2.11.1 in c:\\users\\jj0sh\\anaconda3\\lib\\site-packages (from ydata-profiling[notebook]) (2.11.3)\n",
      "Requirement already satisfied: pydantic<1.11,>=1.8.1 in c:\\users\\jj0sh\\anaconda3\\lib\\site-packages (from ydata-profiling[notebook]) (1.10.2)\n",
      "Requirement already satisfied: pandas!=1.4.0,<1.6,>1.1 in c:\\users\\jj0sh\\anaconda3\\lib\\site-packages (from ydata-profiling[notebook]) (1.4.4)\n",
      "Requirement already satisfied: phik<0.13,>=0.11.1 in c:\\users\\jj0sh\\anaconda3\\lib\\site-packages (from ydata-profiling[notebook]) (0.11.2)\n",
      "Requirement already satisfied: multimethod<1.10,>=1.4 in c:\\users\\jj0sh\\anaconda3\\lib\\site-packages (from ydata-profiling[notebook]) (1.4)\n",
      "Requirement already satisfied: numpy<1.24,>=1.16.0 in c:\\users\\jj0sh\\anaconda3\\lib\\site-packages (from ydata-profiling[notebook]) (1.21.5)\n",
      "Requirement already satisfied: scipy<1.10,>=1.4.1 in c:\\users\\jj0sh\\anaconda3\\lib\\site-packages (from ydata-profiling[notebook]) (1.9.1)\n",
      "Requirement already satisfied: htmlmin==0.1.12 in c:\\users\\jj0sh\\anaconda3\\lib\\site-packages (from ydata-profiling[notebook]) (0.1.12)\n",
      "Requirement already satisfied: typeguard<2.14,>=2.13.2 in c:\\users\\jj0sh\\anaconda3\\lib\\site-packages (from ydata-profiling[notebook]) (2.13.3)\n",
      "Requirement already satisfied: matplotlib<3.7,>=3.2 in c:\\users\\jj0sh\\anaconda3\\lib\\site-packages (from ydata-profiling[notebook]) (3.5.2)\n",
      "Requirement already satisfied: jupyter-core>=4.6.3 in c:\\users\\jj0sh\\anaconda3\\lib\\site-packages (from ydata-profiling[notebook]) (4.11.1)\n",
      "Requirement already satisfied: ipywidgets>=7.5.1 in c:\\users\\jj0sh\\anaconda3\\lib\\site-packages (from ydata-profiling[notebook]) (7.6.5)\n",
      "Requirement already satisfied: jupyter-client>=5.3.4 in c:\\users\\jj0sh\\anaconda3\\lib\\site-packages (from ydata-profiling[notebook]) (7.3.4)\n",
      "Requirement already satisfied: networkx>=2.4 in c:\\users\\jj0sh\\anaconda3\\lib\\site-packages (from visions[type_image_path]==0.7.5->ydata-profiling[notebook]) (2.8.4)\n",
      "Requirement already satisfied: attrs>=19.3.0 in c:\\users\\jj0sh\\anaconda3\\lib\\site-packages (from visions[type_image_path]==0.7.5->ydata-profiling[notebook]) (21.4.0)\n",
      "Requirement already satisfied: tangled-up-in-unicode>=0.0.4 in c:\\users\\jj0sh\\anaconda3\\lib\\site-packages (from visions[type_image_path]==0.7.5->ydata-profiling[notebook]) (0.2.0)\n",
      "Requirement already satisfied: imagehash in c:\\users\\jj0sh\\anaconda3\\lib\\site-packages (from visions[type_image_path]==0.7.5->ydata-profiling[notebook]) (4.3.1)\n",
      "Requirement already satisfied: Pillow in c:\\users\\jj0sh\\anaconda3\\lib\\site-packages (from visions[type_image_path]==0.7.5->ydata-profiling[notebook]) (9.2.0)\n",
      "Requirement already satisfied: ipykernel>=4.5.1 in c:\\users\\jj0sh\\anaconda3\\lib\\site-packages (from ipywidgets>=7.5.1->ydata-profiling[notebook]) (6.15.2)\n",
      "Requirement already satisfied: ipython>=4.0.0 in c:\\users\\jj0sh\\anaconda3\\lib\\site-packages (from ipywidgets>=7.5.1->ydata-profiling[notebook]) (7.31.1)\n",
      "Requirement already satisfied: widgetsnbextension~=3.5.0 in c:\\users\\jj0sh\\anaconda3\\lib\\site-packages (from ipywidgets>=7.5.1->ydata-profiling[notebook]) (3.5.2)\n",
      "Requirement already satisfied: nbformat>=4.2.0 in c:\\users\\jj0sh\\anaconda3\\lib\\site-packages (from ipywidgets>=7.5.1->ydata-profiling[notebook]) (5.5.0)\n",
      "Requirement already satisfied: ipython-genutils~=0.2.0 in c:\\users\\jj0sh\\anaconda3\\lib\\site-packages (from ipywidgets>=7.5.1->ydata-profiling[notebook]) (0.2.0)\n",
      "Requirement already satisfied: jupyterlab-widgets>=1.0.0 in c:\\users\\jj0sh\\anaconda3\\lib\\site-packages (from ipywidgets>=7.5.1->ydata-profiling[notebook]) (1.0.0)\n",
      "Requirement already satisfied: traitlets>=4.3.1 in c:\\users\\jj0sh\\anaconda3\\lib\\site-packages (from ipywidgets>=7.5.1->ydata-profiling[notebook]) (5.1.1)\n",
      "Requirement already satisfied: MarkupSafe>=0.23 in c:\\users\\jj0sh\\anaconda3\\lib\\site-packages (from jinja2<3.2,>=2.11.1->ydata-profiling[notebook]) (2.0.1)\n",
      "Requirement already satisfied: entrypoints in c:\\users\\jj0sh\\anaconda3\\lib\\site-packages (from jupyter-client>=5.3.4->ydata-profiling[notebook]) (0.4)\n",
      "Requirement already satisfied: python-dateutil>=2.8.2 in c:\\users\\jj0sh\\anaconda3\\lib\\site-packages (from jupyter-client>=5.3.4->ydata-profiling[notebook]) (2.8.2)\n",
      "Requirement already satisfied: tornado>=6.0 in c:\\users\\jj0sh\\anaconda3\\lib\\site-packages (from jupyter-client>=5.3.4->ydata-profiling[notebook]) (6.1)\n",
      "Requirement already satisfied: pyzmq>=23.0 in c:\\users\\jj0sh\\anaconda3\\lib\\site-packages (from jupyter-client>=5.3.4->ydata-profiling[notebook]) (23.2.0)\n",
      "Requirement already satisfied: nest-asyncio>=1.5.4 in c:\\users\\jj0sh\\anaconda3\\lib\\site-packages (from jupyter-client>=5.3.4->ydata-profiling[notebook]) (1.5.5)\n",
      "Requirement already satisfied: pywin32>=1.0 in c:\\users\\jj0sh\\anaconda3\\lib\\site-packages (from jupyter-core>=4.6.3->ydata-profiling[notebook]) (302)\n",
      "Requirement already satisfied: pyparsing>=2.2.1 in c:\\users\\jj0sh\\anaconda3\\lib\\site-packages (from matplotlib<3.7,>=3.2->ydata-profiling[notebook]) (3.0.9)\n",
      "Requirement already satisfied: fonttools>=4.22.0 in c:\\users\\jj0sh\\anaconda3\\lib\\site-packages (from matplotlib<3.7,>=3.2->ydata-profiling[notebook]) (4.25.0)\n",
      "Requirement already satisfied: kiwisolver>=1.0.1 in c:\\users\\jj0sh\\anaconda3\\lib\\site-packages (from matplotlib<3.7,>=3.2->ydata-profiling[notebook]) (1.4.2)\n",
      "Requirement already satisfied: cycler>=0.10 in c:\\users\\jj0sh\\anaconda3\\lib\\site-packages (from matplotlib<3.7,>=3.2->ydata-profiling[notebook]) (0.11.0)\n",
      "Requirement already satisfied: packaging>=20.0 in c:\\users\\jj0sh\\anaconda3\\lib\\site-packages (from matplotlib<3.7,>=3.2->ydata-profiling[notebook]) (21.3)\n",
      "Requirement already satisfied: pytz>=2020.1 in c:\\users\\jj0sh\\anaconda3\\lib\\site-packages (from pandas!=1.4.0,<1.6,>1.1->ydata-profiling[notebook]) (2022.1)\n",
      "Requirement already satisfied: joblib>=0.14.1 in c:\\users\\jj0sh\\anaconda3\\lib\\site-packages (from phik<0.13,>=0.11.1->ydata-profiling[notebook]) (1.1.0)\n",
      "Requirement already satisfied: typing-extensions>=4.1.0 in c:\\users\\jj0sh\\anaconda3\\lib\\site-packages (from pydantic<1.11,>=1.8.1->ydata-profiling[notebook]) (4.3.0)\n",
      "Requirement already satisfied: certifi>=2017.4.17 in c:\\users\\jj0sh\\anaconda3\\lib\\site-packages (from requests<2.29,>=2.24.0->ydata-profiling[notebook]) (2022.9.14)\n",
      "Requirement already satisfied: urllib3<1.27,>=1.21.1 in c:\\users\\jj0sh\\anaconda3\\lib\\site-packages (from requests<2.29,>=2.24.0->ydata-profiling[notebook]) (1.26.11)\n",
      "Requirement already satisfied: charset-normalizer<3,>=2 in c:\\users\\jj0sh\\anaconda3\\lib\\site-packages (from requests<2.29,>=2.24.0->ydata-profiling[notebook]) (2.0.4)\n",
      "Requirement already satisfied: idna<4,>=2.5 in c:\\users\\jj0sh\\anaconda3\\lib\\site-packages (from requests<2.29,>=2.24.0->ydata-profiling[notebook]) (3.3)\n",
      "Requirement already satisfied: patsy>=0.5.2 in c:\\users\\jj0sh\\anaconda3\\lib\\site-packages (from statsmodels<0.14,>=0.13.2->ydata-profiling[notebook]) (0.5.2)\n",
      "Requirement already satisfied: colorama in c:\\users\\jj0sh\\anaconda3\\lib\\site-packages (from tqdm<4.65,>=4.48.2->ydata-profiling[notebook]) (0.4.5)\n",
      "Requirement already satisfied: matplotlib-inline>=0.1 in c:\\users\\jj0sh\\anaconda3\\lib\\site-packages (from ipykernel>=4.5.1->ipywidgets>=7.5.1->ydata-profiling[notebook]) (0.1.6)\n",
      "Requirement already satisfied: psutil in c:\\users\\jj0sh\\anaconda3\\lib\\site-packages (from ipykernel>=4.5.1->ipywidgets>=7.5.1->ydata-profiling[notebook]) (5.9.0)\n",
      "Requirement already satisfied: debugpy>=1.0 in c:\\users\\jj0sh\\anaconda3\\lib\\site-packages (from ipykernel>=4.5.1->ipywidgets>=7.5.1->ydata-profiling[notebook]) (1.5.1)\n",
      "Requirement already satisfied: pickleshare in c:\\users\\jj0sh\\anaconda3\\lib\\site-packages (from ipython>=4.0.0->ipywidgets>=7.5.1->ydata-profiling[notebook]) (0.7.5)\n",
      "Requirement already satisfied: decorator in c:\\users\\jj0sh\\anaconda3\\lib\\site-packages (from ipython>=4.0.0->ipywidgets>=7.5.1->ydata-profiling[notebook]) (5.1.1)\n",
      "Requirement already satisfied: prompt-toolkit!=3.0.0,!=3.0.1,<3.1.0,>=2.0.0 in c:\\users\\jj0sh\\anaconda3\\lib\\site-packages (from ipython>=4.0.0->ipywidgets>=7.5.1->ydata-profiling[notebook]) (3.0.20)\n",
      "Requirement already satisfied: pygments in c:\\users\\jj0sh\\anaconda3\\lib\\site-packages (from ipython>=4.0.0->ipywidgets>=7.5.1->ydata-profiling[notebook]) (2.11.2)\n",
      "Requirement already satisfied: backcall in c:\\users\\jj0sh\\anaconda3\\lib\\site-packages (from ipython>=4.0.0->ipywidgets>=7.5.1->ydata-profiling[notebook]) (0.2.0)\n",
      "Requirement already satisfied: setuptools>=18.5 in c:\\users\\jj0sh\\anaconda3\\lib\\site-packages (from ipython>=4.0.0->ipywidgets>=7.5.1->ydata-profiling[notebook]) (63.4.1)\n",
      "Requirement already satisfied: jedi>=0.16 in c:\\users\\jj0sh\\anaconda3\\lib\\site-packages (from ipython>=4.0.0->ipywidgets>=7.5.1->ydata-profiling[notebook]) (0.18.1)\n",
      "Requirement already satisfied: jsonschema>=2.6 in c:\\users\\jj0sh\\anaconda3\\lib\\site-packages (from nbformat>=4.2.0->ipywidgets>=7.5.1->ydata-profiling[notebook]) (4.16.0)\n",
      "Requirement already satisfied: fastjsonschema in c:\\users\\jj0sh\\anaconda3\\lib\\site-packages (from nbformat>=4.2.0->ipywidgets>=7.5.1->ydata-profiling[notebook]) (2.16.2)\n",
      "Requirement already satisfied: six in c:\\users\\jj0sh\\anaconda3\\lib\\site-packages (from patsy>=0.5.2->statsmodels<0.14,>=0.13.2->ydata-profiling[notebook]) (1.16.0)\n",
      "Requirement already satisfied: notebook>=4.4.1 in c:\\users\\jj0sh\\anaconda3\\lib\\site-packages (from widgetsnbextension~=3.5.0->ipywidgets>=7.5.1->ydata-profiling[notebook]) (6.4.12)\n",
      "Requirement already satisfied: PyWavelets in c:\\users\\jj0sh\\anaconda3\\lib\\site-packages (from imagehash->visions[type_image_path]==0.7.5->ydata-profiling[notebook]) (1.3.0)\n",
      "Requirement already satisfied: parso<0.9.0,>=0.8.0 in c:\\users\\jj0sh\\anaconda3\\lib\\site-packages (from jedi>=0.16->ipython>=4.0.0->ipywidgets>=7.5.1->ydata-profiling[notebook]) (0.8.3)\n",
      "Requirement already satisfied: pyrsistent!=0.17.0,!=0.17.1,!=0.17.2,>=0.14.0 in c:\\users\\jj0sh\\anaconda3\\lib\\site-packages (from jsonschema>=2.6->nbformat>=4.2.0->ipywidgets>=7.5.1->ydata-profiling[notebook]) (0.18.0)\n",
      "Requirement already satisfied: nbconvert>=5 in c:\\users\\jj0sh\\anaconda3\\lib\\site-packages (from notebook>=4.4.1->widgetsnbextension~=3.5.0->ipywidgets>=7.5.1->ydata-profiling[notebook]) (6.4.4)\n",
      "Requirement already satisfied: argon2-cffi in c:\\users\\jj0sh\\anaconda3\\lib\\site-packages (from notebook>=4.4.1->widgetsnbextension~=3.5.0->ipywidgets>=7.5.1->ydata-profiling[notebook]) (21.3.0)\n",
      "Requirement already satisfied: prometheus-client in c:\\users\\jj0sh\\anaconda3\\lib\\site-packages (from notebook>=4.4.1->widgetsnbextension~=3.5.0->ipywidgets>=7.5.1->ydata-profiling[notebook]) (0.14.1)\n",
      "Requirement already satisfied: terminado>=0.8.3 in c:\\users\\jj0sh\\anaconda3\\lib\\site-packages (from notebook>=4.4.1->widgetsnbextension~=3.5.0->ipywidgets>=7.5.1->ydata-profiling[notebook]) (0.13.1)\n",
      "Requirement already satisfied: Send2Trash>=1.8.0 in c:\\users\\jj0sh\\anaconda3\\lib\\site-packages (from notebook>=4.4.1->widgetsnbextension~=3.5.0->ipywidgets>=7.5.1->ydata-profiling[notebook]) (1.8.0)\n",
      "Requirement already satisfied: wcwidth in c:\\users\\jj0sh\\anaconda3\\lib\\site-packages (from prompt-toolkit!=3.0.0,!=3.0.1,<3.1.0,>=2.0.0->ipython>=4.0.0->ipywidgets>=7.5.1->ydata-profiling[notebook]) (0.2.5)\n",
      "Requirement already satisfied: mistune<2,>=0.8.1 in c:\\users\\jj0sh\\anaconda3\\lib\\site-packages (from nbconvert>=5->notebook>=4.4.1->widgetsnbextension~=3.5.0->ipywidgets>=7.5.1->ydata-profiling[notebook]) (0.8.4)\n",
      "Requirement already satisfied: defusedxml in c:\\users\\jj0sh\\anaconda3\\lib\\site-packages (from nbconvert>=5->notebook>=4.4.1->widgetsnbextension~=3.5.0->ipywidgets>=7.5.1->ydata-profiling[notebook]) (0.7.1)\n",
      "Requirement already satisfied: nbclient<0.6.0,>=0.5.0 in c:\\users\\jj0sh\\anaconda3\\lib\\site-packages (from nbconvert>=5->notebook>=4.4.1->widgetsnbextension~=3.5.0->ipywidgets>=7.5.1->ydata-profiling[notebook]) (0.5.13)\n",
      "Requirement already satisfied: pandocfilters>=1.4.1 in c:\\users\\jj0sh\\anaconda3\\lib\\site-packages (from nbconvert>=5->notebook>=4.4.1->widgetsnbextension~=3.5.0->ipywidgets>=7.5.1->ydata-profiling[notebook]) (1.5.0)\n",
      "Requirement already satisfied: testpath in c:\\users\\jj0sh\\anaconda3\\lib\\site-packages (from nbconvert>=5->notebook>=4.4.1->widgetsnbextension~=3.5.0->ipywidgets>=7.5.1->ydata-profiling[notebook]) (0.6.0)\n",
      "Requirement already satisfied: bleach in c:\\users\\jj0sh\\anaconda3\\lib\\site-packages (from nbconvert>=5->notebook>=4.4.1->widgetsnbextension~=3.5.0->ipywidgets>=7.5.1->ydata-profiling[notebook]) (4.1.0)\n",
      "Requirement already satisfied: beautifulsoup4 in c:\\users\\jj0sh\\anaconda3\\lib\\site-packages (from nbconvert>=5->notebook>=4.4.1->widgetsnbextension~=3.5.0->ipywidgets>=7.5.1->ydata-profiling[notebook]) (4.11.1)\n",
      "Requirement already satisfied: jupyterlab-pygments in c:\\users\\jj0sh\\anaconda3\\lib\\site-packages (from nbconvert>=5->notebook>=4.4.1->widgetsnbextension~=3.5.0->ipywidgets>=7.5.1->ydata-profiling[notebook]) (0.1.2)\n",
      "Requirement already satisfied: pywinpty>=1.1.0 in c:\\users\\jj0sh\\anaconda3\\lib\\site-packages (from terminado>=0.8.3->notebook>=4.4.1->widgetsnbextension~=3.5.0->ipywidgets>=7.5.1->ydata-profiling[notebook]) (2.0.2)\n",
      "Requirement already satisfied: argon2-cffi-bindings in c:\\users\\jj0sh\\anaconda3\\lib\\site-packages (from argon2-cffi->notebook>=4.4.1->widgetsnbextension~=3.5.0->ipywidgets>=7.5.1->ydata-profiling[notebook]) (21.2.0)\n",
      "Requirement already satisfied: cffi>=1.0.1 in c:\\users\\jj0sh\\anaconda3\\lib\\site-packages (from argon2-cffi-bindings->argon2-cffi->notebook>=4.4.1->widgetsnbextension~=3.5.0->ipywidgets>=7.5.1->ydata-profiling[notebook]) (1.15.1)\n",
      "Requirement already satisfied: soupsieve>1.2 in c:\\users\\jj0sh\\anaconda3\\lib\\site-packages (from beautifulsoup4->nbconvert>=5->notebook>=4.4.1->widgetsnbextension~=3.5.0->ipywidgets>=7.5.1->ydata-profiling[notebook]) (2.3.1)\n",
      "Requirement already satisfied: webencodings in c:\\users\\jj0sh\\anaconda3\\lib\\site-packages (from bleach->nbconvert>=5->notebook>=4.4.1->widgetsnbextension~=3.5.0->ipywidgets>=7.5.1->ydata-profiling[notebook]) (0.5.1)\n",
      "Requirement already satisfied: pycparser in c:\\users\\jj0sh\\anaconda3\\lib\\site-packages (from cffi>=1.0.1->argon2-cffi-bindings->argon2-cffi->notebook>=4.4.1->widgetsnbextension~=3.5.0->ipywidgets>=7.5.1->ydata-profiling[notebook]) (2.21)\n",
      "Installing collected packages: ydata-profiling\n",
      "Successfully installed ydata-profiling-4.0.0\n"
     ]
    },
    {
     "name": "stderr",
     "output_type": "stream",
     "text": [
      "Enabling notebook extension jupyter-js-widgets/extension...\n",
      "      - Validating: ok\n"
     ]
    }
   ],
   "source": [
    "\n",
    "import sys\n",
    "!{sys.executable} -m pip install -U ydata-profiling[notebook]\n",
    "!jupyter nbextension enable --py widgetsnbextension"
   ]
  },
  {
   "cell_type": "code",
   "execution_count": 4,
   "metadata": {},
   "outputs": [],
   "source": [
    "import pandas as pd\n",
    "from ydata_profiling import ProfileReport"
   ]
  },
  {
   "attachments": {},
   "cell_type": "markdown",
   "metadata": {},
   "source": [
    "# 01 Load Tables"
   ]
  },
  {
   "cell_type": "code",
   "execution_count": 6,
   "metadata": {},
   "outputs": [],
   "source": [
    "anime_df = pd.read_csv('anime.csv')\n",
    "review_df = pd.read_csv('reviews.csv')"
   ]
  },
  {
   "cell_type": "code",
   "execution_count": 8,
   "metadata": {},
   "outputs": [
    {
     "data": {
      "application/vnd.jupyter.widget-view+json": {
       "model_id": "bae8baa342ae4c8aa19537f045b8b1af",
       "version_major": 2,
       "version_minor": 0
      },
      "text/plain": [
       "Summarize dataset:   0%|          | 0/5 [00:00<?, ?it/s]"
      ]
     },
     "metadata": {},
     "output_type": "display_data"
    },
    {
     "data": {
      "application/vnd.jupyter.widget-view+json": {
       "model_id": "55d440bb34504347870a24907e577c7d",
       "version_major": 2,
       "version_minor": 0
      },
      "text/plain": [
       "Generate report structure:   0%|          | 0/1 [00:00<?, ?it/s]"
      ]
     },
     "metadata": {},
     "output_type": "display_data"
    },
    {
     "data": {
      "application/vnd.jupyter.widget-view+json": {
       "model_id": "3b67b9ac5e244bd687b40481253b2ac2",
       "version_major": 2,
       "version_minor": 0
      },
      "text/plain": [
       "Render widgets:   0%|          | 0/1 [00:00<?, ?it/s]"
      ]
     },
     "metadata": {},
     "output_type": "display_data"
    },
    {
     "data": {
      "application/vnd.jupyter.widget-view+json": {
       "model_id": "e8fdf40fcf0240ad989987f04f995569",
       "version_major": 2,
       "version_minor": 0
      },
      "text/plain": [
       "VBox(children=(Tab(children=(Tab(children=(GridBox(children=(VBox(children=(GridspecLayout(children=(HTML(valu…"
      ]
     },
     "metadata": {},
     "output_type": "display_data"
    }
   ],
   "source": [
    "anime_profile = ProfileReport(anime_df, title=\"Pandas Profiling Report\")\n",
    "anime_profile.to_widgets()"
   ]
  },
  {
   "cell_type": "code",
   "execution_count": 17,
   "metadata": {},
   "outputs": [
    {
     "data": {
      "text/html": [
       "<div>\n",
       "<style scoped>\n",
       "    .dataframe tbody tr th:only-of-type {\n",
       "        vertical-align: middle;\n",
       "    }\n",
       "\n",
       "    .dataframe tbody tr th {\n",
       "        vertical-align: top;\n",
       "    }\n",
       "\n",
       "    .dataframe thead th {\n",
       "        text-align: right;\n",
       "    }\n",
       "</style>\n",
       "<table border=\"1\" class=\"dataframe\">\n",
       "  <thead>\n",
       "    <tr style=\"text-align: right;\">\n",
       "      <th></th>\n",
       "      <th>MAL_ID</th>\n",
       "      <th>anime_name</th>\n",
       "      <th>anime_name_eng</th>\n",
       "      <th>num_episodes</th>\n",
       "      <th>start_date</th>\n",
       "      <th>end_date</th>\n",
       "      <th>duration</th>\n",
       "      <th>rating</th>\n",
       "      <th>score</th>\n",
       "      <th>rank</th>\n",
       "      <th>synopsis</th>\n",
       "      <th>genres</th>\n",
       "      <th>demographics</th>\n",
       "      <th>start_month</th>\n",
       "      <th>start_year</th>\n",
       "      <th>end_month</th>\n",
       "      <th>end_year</th>\n",
       "      <th>anime_duration_amt</th>\n",
       "    </tr>\n",
       "  </thead>\n",
       "  <tbody>\n",
       "    <tr>\n",
       "      <th>0</th>\n",
       "      <td>1</td>\n",
       "      <td>Cowboy Bebop</td>\n",
       "      <td>Cowboy Bebop</td>\n",
       "      <td>26.0</td>\n",
       "      <td>1998-04-03T00:00:00+00:00</td>\n",
       "      <td>1999-04-24T00:00:00+00:00</td>\n",
       "      <td>24 min per ep</td>\n",
       "      <td>R - 17+ (violence &amp; profanity)</td>\n",
       "      <td>8.75</td>\n",
       "      <td>40.0</td>\n",
       "      <td>Crime is timeless. By the year 2071, humanity ...</td>\n",
       "      <td>['Action', 'Sci-Fi']</td>\n",
       "      <td>[]</td>\n",
       "      <td>4.0</td>\n",
       "      <td>1998.0</td>\n",
       "      <td>4.0</td>\n",
       "      <td>1999.0</td>\n",
       "      <td>24</td>\n",
       "    </tr>\n",
       "    <tr>\n",
       "      <th>1</th>\n",
       "      <td>6</td>\n",
       "      <td>Trigun</td>\n",
       "      <td>Trigun</td>\n",
       "      <td>26.0</td>\n",
       "      <td>1998-04-01T00:00:00+00:00</td>\n",
       "      <td>1998-09-30T00:00:00+00:00</td>\n",
       "      <td>24 min per ep</td>\n",
       "      <td>PG-13 - Teens 13 or older</td>\n",
       "      <td>8.21</td>\n",
       "      <td>338.0</td>\n",
       "      <td>Vash the Stampede is the man with a $$60,000,0...</td>\n",
       "      <td>['Action', 'Adventure', 'Sci-Fi']</td>\n",
       "      <td>['Shounen']</td>\n",
       "      <td>4.0</td>\n",
       "      <td>1998.0</td>\n",
       "      <td>9.0</td>\n",
       "      <td>1998.0</td>\n",
       "      <td>24</td>\n",
       "    </tr>\n",
       "    <tr>\n",
       "      <th>2</th>\n",
       "      <td>7</td>\n",
       "      <td>Witch Hunter Robin</td>\n",
       "      <td>Witch Hunter Robin</td>\n",
       "      <td>26.0</td>\n",
       "      <td>2002-07-03T00:00:00+00:00</td>\n",
       "      <td>2002-12-25T00:00:00+00:00</td>\n",
       "      <td>25 min per ep</td>\n",
       "      <td>PG-13 - Teens 13 or older</td>\n",
       "      <td>7.25</td>\n",
       "      <td>2789.0</td>\n",
       "      <td>Robin Sena is a powerful craft user drafted in...</td>\n",
       "      <td>['Action', 'Drama', 'Mystery', 'Supernatural']</td>\n",
       "      <td>[]</td>\n",
       "      <td>7.0</td>\n",
       "      <td>2002.0</td>\n",
       "      <td>12.0</td>\n",
       "      <td>2002.0</td>\n",
       "      <td>25</td>\n",
       "    </tr>\n",
       "    <tr>\n",
       "      <th>3</th>\n",
       "      <td>8</td>\n",
       "      <td>Bouken Ou Beet</td>\n",
       "      <td>Beet the Vandel Buster</td>\n",
       "      <td>52.0</td>\n",
       "      <td>2004-09-30T00:00:00+00:00</td>\n",
       "      <td>2005-09-29T00:00:00+00:00</td>\n",
       "      <td>23 min per ep</td>\n",
       "      <td>PG - Children</td>\n",
       "      <td>6.95</td>\n",
       "      <td>4264.0</td>\n",
       "      <td>It is the dark century and the people are suff...</td>\n",
       "      <td>['Adventure', 'Fantasy', 'Supernatural']</td>\n",
       "      <td>['Shounen']</td>\n",
       "      <td>9.0</td>\n",
       "      <td>2004.0</td>\n",
       "      <td>9.0</td>\n",
       "      <td>2005.0</td>\n",
       "      <td>23</td>\n",
       "    </tr>\n",
       "    <tr>\n",
       "      <th>4</th>\n",
       "      <td>15</td>\n",
       "      <td>Eyeshield 21</td>\n",
       "      <td>NaN</td>\n",
       "      <td>145.0</td>\n",
       "      <td>2005-04-06T00:00:00+00:00</td>\n",
       "      <td>2008-03-19T00:00:00+00:00</td>\n",
       "      <td>23 min per ep</td>\n",
       "      <td>PG-13 - Teens 13 or older</td>\n",
       "      <td>7.92</td>\n",
       "      <td>693.0</td>\n",
       "      <td>Shy, reserved, and small-statured, Deimon High...</td>\n",
       "      <td>['Sports']</td>\n",
       "      <td>['Shounen']</td>\n",
       "      <td>4.0</td>\n",
       "      <td>2005.0</td>\n",
       "      <td>3.0</td>\n",
       "      <td>2008.0</td>\n",
       "      <td>23</td>\n",
       "    </tr>\n",
       "  </tbody>\n",
       "</table>\n",
       "</div>"
      ],
      "text/plain": [
       "   MAL_ID          anime_name          anime_name_eng  num_episodes  \\\n",
       "0       1        Cowboy Bebop            Cowboy Bebop          26.0   \n",
       "1       6              Trigun                  Trigun          26.0   \n",
       "2       7  Witch Hunter Robin      Witch Hunter Robin          26.0   \n",
       "3       8      Bouken Ou Beet  Beet the Vandel Buster          52.0   \n",
       "4      15        Eyeshield 21                     NaN         145.0   \n",
       "\n",
       "                  start_date                   end_date       duration  \\\n",
       "0  1998-04-03T00:00:00+00:00  1999-04-24T00:00:00+00:00  24 min per ep   \n",
       "1  1998-04-01T00:00:00+00:00  1998-09-30T00:00:00+00:00  24 min per ep   \n",
       "2  2002-07-03T00:00:00+00:00  2002-12-25T00:00:00+00:00  25 min per ep   \n",
       "3  2004-09-30T00:00:00+00:00  2005-09-29T00:00:00+00:00  23 min per ep   \n",
       "4  2005-04-06T00:00:00+00:00  2008-03-19T00:00:00+00:00  23 min per ep   \n",
       "\n",
       "                           rating  score    rank  \\\n",
       "0  R - 17+ (violence & profanity)   8.75    40.0   \n",
       "1       PG-13 - Teens 13 or older   8.21   338.0   \n",
       "2       PG-13 - Teens 13 or older   7.25  2789.0   \n",
       "3                   PG - Children   6.95  4264.0   \n",
       "4       PG-13 - Teens 13 or older   7.92   693.0   \n",
       "\n",
       "                                            synopsis  \\\n",
       "0  Crime is timeless. By the year 2071, humanity ...   \n",
       "1  Vash the Stampede is the man with a $$60,000,0...   \n",
       "2  Robin Sena is a powerful craft user drafted in...   \n",
       "3  It is the dark century and the people are suff...   \n",
       "4  Shy, reserved, and small-statured, Deimon High...   \n",
       "\n",
       "                                           genres demographics  start_month  \\\n",
       "0                            ['Action', 'Sci-Fi']           []          4.0   \n",
       "1               ['Action', 'Adventure', 'Sci-Fi']  ['Shounen']          4.0   \n",
       "2  ['Action', 'Drama', 'Mystery', 'Supernatural']           []          7.0   \n",
       "3        ['Adventure', 'Fantasy', 'Supernatural']  ['Shounen']          9.0   \n",
       "4                                      ['Sports']  ['Shounen']          4.0   \n",
       "\n",
       "   start_year  end_month  end_year anime_duration_amt  \n",
       "0      1998.0        4.0    1999.0                 24  \n",
       "1      1998.0        9.0    1998.0                 24  \n",
       "2      2002.0       12.0    2002.0                 25  \n",
       "3      2004.0        9.0    2005.0                 23  \n",
       "4      2005.0        3.0    2008.0                 23  "
      ]
     },
     "execution_count": 17,
     "metadata": {},
     "output_type": "execute_result"
    }
   ],
   "source": [
    "anime_df.head()"
   ]
  },
  {
   "cell_type": "code",
   "execution_count": 30,
   "metadata": {},
   "outputs": [],
   "source": [
    "anime_df['start_month'] = pd.DatetimeIndex(anime_df['start_date']).month\n",
    "anime_df['start_year'] = pd.DatetimeIndex(anime_df['start_date']).year\n",
    "anime_df['end_month'] = pd.DatetimeIndex(anime_df['end_date']).month\n",
    "anime_df['end_year'] = pd.DatetimeIndex(anime_df['end_date']).year\n",
    "anime_df['anime_duration_amt'] = anime_df.duration.str.extract('(\\d+)')\n",
    "anime_df['anime_duration_type'] = anime_df.duration.str.extract('\\D+\\s+(\\w+)')"
   ]
  },
  {
   "cell_type": "code",
   "execution_count": 31,
   "metadata": {},
   "outputs": [
    {
     "data": {
      "text/plain": [
       "array(['ep', nan], dtype=object)"
      ]
     },
     "execution_count": 31,
     "metadata": {},
     "output_type": "execute_result"
    }
   ],
   "source": [
    "anime_df.anime_duration_type.unique()"
   ]
  },
  {
   "cell_type": "code",
   "execution_count": 12,
   "metadata": {},
   "outputs": [
    {
     "data": {
      "text/plain": [
       "MAL_ID              int64\n",
       "anime_name         object\n",
       "anime_name_eng     object\n",
       "num_episodes      float64\n",
       "start_date         object\n",
       "end_date           object\n",
       "duration           object\n",
       "rating             object\n",
       "score             float64\n",
       "rank              float64\n",
       "synopsis           object\n",
       "genres             object\n",
       "demographics       object\n",
       "start_month       float64\n",
       "start_year        float64\n",
       "end_month         float64\n",
       "end_year          float64\n",
       "dtype: object"
      ]
     },
     "execution_count": 12,
     "metadata": {},
     "output_type": "execute_result"
    }
   ],
   "source": [
    "anime_df.dtypes"
   ]
  }
 ],
 "metadata": {
  "kernelspec": {
   "display_name": "base",
   "language": "python",
   "name": "python3"
  },
  "language_info": {
   "codemirror_mode": {
    "name": "ipython",
    "version": 3
   },
   "file_extension": ".py",
   "mimetype": "text/x-python",
   "name": "python",
   "nbconvert_exporter": "python",
   "pygments_lexer": "ipython3",
   "version": "3.9.13"
  },
  "orig_nbformat": 4,
  "vscode": {
   "interpreter": {
    "hash": "abbdeca80f6970c053bb737fa801fdaec193b8d44d3081d97b6fee3c1c2de091"
   }
  }
 },
 "nbformat": 4,
 "nbformat_minor": 2
}
