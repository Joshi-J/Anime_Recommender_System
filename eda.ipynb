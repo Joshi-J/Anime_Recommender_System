{
 "cells": [
  {
   "cell_type": "code",
   "execution_count": 3,
   "metadata": {},
   "outputs": [
    {
     "name": "stdout",
     "output_type": "stream",
     "text": [
      "Collecting ydata-profiling[notebook]\n",
      "  Downloading ydata_profiling-4.0.0-py2.py3-none-any.whl (344 kB)\n",
      "     -------------------------------------- 344.5/344.5 kB 7.1 MB/s eta 0:00:00\n",
      "Requirement already satisfied: requests<2.29,>=2.24.0 in c:\\users\\jj0sh\\anaconda3\\lib\\site-packages (from ydata-profiling[notebook]) (2.28.1)\n",
      "Requirement already satisfied: seaborn<0.13,>=0.10.1 in c:\\users\\jj0sh\\anaconda3\\lib\\site-packages (from ydata-profiling[notebook]) (0.12.2)\n",
      "Requirement already satisfied: statsmodels<0.14,>=0.13.2 in c:\\users\\jj0sh\\anaconda3\\lib\\site-packages (from ydata-profiling[notebook]) (0.13.2)\n",
      "Requirement already satisfied: PyYAML<6.1,>=5.0.0 in c:\\users\\jj0sh\\anaconda3\\lib\\site-packages (from ydata-profiling[notebook]) (6.0)\n",
      "Requirement already satisfied: tqdm<4.65,>=4.48.2 in c:\\users\\jj0sh\\anaconda3\\lib\\site-packages (from ydata-profiling[notebook]) (4.64.1)\n",
      "Requirement already satisfied: visions[type_image_path]==0.7.5 in c:\\users\\jj0sh\\anaconda3\\lib\\site-packages (from ydata-profiling[notebook]) (0.7.5)\n",
      "Requirement already satisfied: jinja2<3.2,>=2.11.1 in c:\\users\\jj0sh\\anaconda3\\lib\\site-packages (from ydata-profiling[notebook]) (2.11.3)\n",
      "Requirement already satisfied: pydantic<1.11,>=1.8.1 in c:\\users\\jj0sh\\anaconda3\\lib\\site-packages (from ydata-profiling[notebook]) (1.10.2)\n",
      "Requirement already satisfied: pandas!=1.4.0,<1.6,>1.1 in c:\\users\\jj0sh\\anaconda3\\lib\\site-packages (from ydata-profiling[notebook]) (1.4.4)\n",
      "Requirement already satisfied: phik<0.13,>=0.11.1 in c:\\users\\jj0sh\\anaconda3\\lib\\site-packages (from ydata-profiling[notebook]) (0.11.2)\n",
      "Requirement already satisfied: multimethod<1.10,>=1.4 in c:\\users\\jj0sh\\anaconda3\\lib\\site-packages (from ydata-profiling[notebook]) (1.4)\n",
      "Requirement already satisfied: numpy<1.24,>=1.16.0 in c:\\users\\jj0sh\\anaconda3\\lib\\site-packages (from ydata-profiling[notebook]) (1.21.5)\n",
      "Requirement already satisfied: scipy<1.10,>=1.4.1 in c:\\users\\jj0sh\\anaconda3\\lib\\site-packages (from ydata-profiling[notebook]) (1.9.1)\n",
      "Requirement already satisfied: htmlmin==0.1.12 in c:\\users\\jj0sh\\anaconda3\\lib\\site-packages (from ydata-profiling[notebook]) (0.1.12)\n",
      "Requirement already satisfied: typeguard<2.14,>=2.13.2 in c:\\users\\jj0sh\\anaconda3\\lib\\site-packages (from ydata-profiling[notebook]) (2.13.3)\n",
      "Requirement already satisfied: matplotlib<3.7,>=3.2 in c:\\users\\jj0sh\\anaconda3\\lib\\site-packages (from ydata-profiling[notebook]) (3.5.2)\n",
      "Requirement already satisfied: jupyter-core>=4.6.3 in c:\\users\\jj0sh\\anaconda3\\lib\\site-packages (from ydata-profiling[notebook]) (4.11.1)\n",
      "Requirement already satisfied: ipywidgets>=7.5.1 in c:\\users\\jj0sh\\anaconda3\\lib\\site-packages (from ydata-profiling[notebook]) (7.6.5)\n",
      "Requirement already satisfied: jupyter-client>=5.3.4 in c:\\users\\jj0sh\\anaconda3\\lib\\site-packages (from ydata-profiling[notebook]) (7.3.4)\n",
      "Requirement already satisfied: networkx>=2.4 in c:\\users\\jj0sh\\anaconda3\\lib\\site-packages (from visions[type_image_path]==0.7.5->ydata-profiling[notebook]) (2.8.4)\n",
      "Requirement already satisfied: attrs>=19.3.0 in c:\\users\\jj0sh\\anaconda3\\lib\\site-packages (from visions[type_image_path]==0.7.5->ydata-profiling[notebook]) (21.4.0)\n",
      "Requirement already satisfied: tangled-up-in-unicode>=0.0.4 in c:\\users\\jj0sh\\anaconda3\\lib\\site-packages (from visions[type_image_path]==0.7.5->ydata-profiling[notebook]) (0.2.0)\n",
      "Requirement already satisfied: imagehash in c:\\users\\jj0sh\\anaconda3\\lib\\site-packages (from visions[type_image_path]==0.7.5->ydata-profiling[notebook]) (4.3.1)\n",
      "Requirement already satisfied: Pillow in c:\\users\\jj0sh\\anaconda3\\lib\\site-packages (from visions[type_image_path]==0.7.5->ydata-profiling[notebook]) (9.2.0)\n",
      "Requirement already satisfied: ipykernel>=4.5.1 in c:\\users\\jj0sh\\anaconda3\\lib\\site-packages (from ipywidgets>=7.5.1->ydata-profiling[notebook]) (6.15.2)\n",
      "Requirement already satisfied: ipython>=4.0.0 in c:\\users\\jj0sh\\anaconda3\\lib\\site-packages (from ipywidgets>=7.5.1->ydata-profiling[notebook]) (7.31.1)\n",
      "Requirement already satisfied: widgetsnbextension~=3.5.0 in c:\\users\\jj0sh\\anaconda3\\lib\\site-packages (from ipywidgets>=7.5.1->ydata-profiling[notebook]) (3.5.2)\n",
      "Requirement already satisfied: nbformat>=4.2.0 in c:\\users\\jj0sh\\anaconda3\\lib\\site-packages (from ipywidgets>=7.5.1->ydata-profiling[notebook]) (5.5.0)\n",
      "Requirement already satisfied: ipython-genutils~=0.2.0 in c:\\users\\jj0sh\\anaconda3\\lib\\site-packages (from ipywidgets>=7.5.1->ydata-profiling[notebook]) (0.2.0)\n",
      "Requirement already satisfied: jupyterlab-widgets>=1.0.0 in c:\\users\\jj0sh\\anaconda3\\lib\\site-packages (from ipywidgets>=7.5.1->ydata-profiling[notebook]) (1.0.0)\n",
      "Requirement already satisfied: traitlets>=4.3.1 in c:\\users\\jj0sh\\anaconda3\\lib\\site-packages (from ipywidgets>=7.5.1->ydata-profiling[notebook]) (5.1.1)\n",
      "Requirement already satisfied: MarkupSafe>=0.23 in c:\\users\\jj0sh\\anaconda3\\lib\\site-packages (from jinja2<3.2,>=2.11.1->ydata-profiling[notebook]) (2.0.1)\n",
      "Requirement already satisfied: entrypoints in c:\\users\\jj0sh\\anaconda3\\lib\\site-packages (from jupyter-client>=5.3.4->ydata-profiling[notebook]) (0.4)\n",
      "Requirement already satisfied: python-dateutil>=2.8.2 in c:\\users\\jj0sh\\anaconda3\\lib\\site-packages (from jupyter-client>=5.3.4->ydata-profiling[notebook]) (2.8.2)\n",
      "Requirement already satisfied: tornado>=6.0 in c:\\users\\jj0sh\\anaconda3\\lib\\site-packages (from jupyter-client>=5.3.4->ydata-profiling[notebook]) (6.1)\n",
      "Requirement already satisfied: pyzmq>=23.0 in c:\\users\\jj0sh\\anaconda3\\lib\\site-packages (from jupyter-client>=5.3.4->ydata-profiling[notebook]) (23.2.0)\n",
      "Requirement already satisfied: nest-asyncio>=1.5.4 in c:\\users\\jj0sh\\anaconda3\\lib\\site-packages (from jupyter-client>=5.3.4->ydata-profiling[notebook]) (1.5.5)\n",
      "Requirement already satisfied: pywin32>=1.0 in c:\\users\\jj0sh\\anaconda3\\lib\\site-packages (from jupyter-core>=4.6.3->ydata-profiling[notebook]) (302)\n",
      "Requirement already satisfied: pyparsing>=2.2.1 in c:\\users\\jj0sh\\anaconda3\\lib\\site-packages (from matplotlib<3.7,>=3.2->ydata-profiling[notebook]) (3.0.9)\n",
      "Requirement already satisfied: fonttools>=4.22.0 in c:\\users\\jj0sh\\anaconda3\\lib\\site-packages (from matplotlib<3.7,>=3.2->ydata-profiling[notebook]) (4.25.0)\n",
      "Requirement already satisfied: kiwisolver>=1.0.1 in c:\\users\\jj0sh\\anaconda3\\lib\\site-packages (from matplotlib<3.7,>=3.2->ydata-profiling[notebook]) (1.4.2)\n",
      "Requirement already satisfied: cycler>=0.10 in c:\\users\\jj0sh\\anaconda3\\lib\\site-packages (from matplotlib<3.7,>=3.2->ydata-profiling[notebook]) (0.11.0)\n",
      "Requirement already satisfied: packaging>=20.0 in c:\\users\\jj0sh\\anaconda3\\lib\\site-packages (from matplotlib<3.7,>=3.2->ydata-profiling[notebook]) (21.3)\n",
      "Requirement already satisfied: pytz>=2020.1 in c:\\users\\jj0sh\\anaconda3\\lib\\site-packages (from pandas!=1.4.0,<1.6,>1.1->ydata-profiling[notebook]) (2022.1)\n",
      "Requirement already satisfied: joblib>=0.14.1 in c:\\users\\jj0sh\\anaconda3\\lib\\site-packages (from phik<0.13,>=0.11.1->ydata-profiling[notebook]) (1.1.0)\n",
      "Requirement already satisfied: typing-extensions>=4.1.0 in c:\\users\\jj0sh\\anaconda3\\lib\\site-packages (from pydantic<1.11,>=1.8.1->ydata-profiling[notebook]) (4.3.0)\n",
      "Requirement already satisfied: certifi>=2017.4.17 in c:\\users\\jj0sh\\anaconda3\\lib\\site-packages (from requests<2.29,>=2.24.0->ydata-profiling[notebook]) (2022.9.14)\n",
      "Requirement already satisfied: urllib3<1.27,>=1.21.1 in c:\\users\\jj0sh\\anaconda3\\lib\\site-packages (from requests<2.29,>=2.24.0->ydata-profiling[notebook]) (1.26.11)\n",
      "Requirement already satisfied: charset-normalizer<3,>=2 in c:\\users\\jj0sh\\anaconda3\\lib\\site-packages (from requests<2.29,>=2.24.0->ydata-profiling[notebook]) (2.0.4)\n",
      "Requirement already satisfied: idna<4,>=2.5 in c:\\users\\jj0sh\\anaconda3\\lib\\site-packages (from requests<2.29,>=2.24.0->ydata-profiling[notebook]) (3.3)\n",
      "Requirement already satisfied: patsy>=0.5.2 in c:\\users\\jj0sh\\anaconda3\\lib\\site-packages (from statsmodels<0.14,>=0.13.2->ydata-profiling[notebook]) (0.5.2)\n",
      "Requirement already satisfied: colorama in c:\\users\\jj0sh\\anaconda3\\lib\\site-packages (from tqdm<4.65,>=4.48.2->ydata-profiling[notebook]) (0.4.5)\n",
      "Requirement already satisfied: matplotlib-inline>=0.1 in c:\\users\\jj0sh\\anaconda3\\lib\\site-packages (from ipykernel>=4.5.1->ipywidgets>=7.5.1->ydata-profiling[notebook]) (0.1.6)\n",
      "Requirement already satisfied: psutil in c:\\users\\jj0sh\\anaconda3\\lib\\site-packages (from ipykernel>=4.5.1->ipywidgets>=7.5.1->ydata-profiling[notebook]) (5.9.0)\n",
      "Requirement already satisfied: debugpy>=1.0 in c:\\users\\jj0sh\\anaconda3\\lib\\site-packages (from ipykernel>=4.5.1->ipywidgets>=7.5.1->ydata-profiling[notebook]) (1.5.1)\n",
      "Requirement already satisfied: pickleshare in c:\\users\\jj0sh\\anaconda3\\lib\\site-packages (from ipython>=4.0.0->ipywidgets>=7.5.1->ydata-profiling[notebook]) (0.7.5)\n",
      "Requirement already satisfied: decorator in c:\\users\\jj0sh\\anaconda3\\lib\\site-packages (from ipython>=4.0.0->ipywidgets>=7.5.1->ydata-profiling[notebook]) (5.1.1)\n",
      "Requirement already satisfied: prompt-toolkit!=3.0.0,!=3.0.1,<3.1.0,>=2.0.0 in c:\\users\\jj0sh\\anaconda3\\lib\\site-packages (from ipython>=4.0.0->ipywidgets>=7.5.1->ydata-profiling[notebook]) (3.0.20)\n",
      "Requirement already satisfied: pygments in c:\\users\\jj0sh\\anaconda3\\lib\\site-packages (from ipython>=4.0.0->ipywidgets>=7.5.1->ydata-profiling[notebook]) (2.11.2)\n",
      "Requirement already satisfied: backcall in c:\\users\\jj0sh\\anaconda3\\lib\\site-packages (from ipython>=4.0.0->ipywidgets>=7.5.1->ydata-profiling[notebook]) (0.2.0)\n",
      "Requirement already satisfied: setuptools>=18.5 in c:\\users\\jj0sh\\anaconda3\\lib\\site-packages (from ipython>=4.0.0->ipywidgets>=7.5.1->ydata-profiling[notebook]) (63.4.1)\n",
      "Requirement already satisfied: jedi>=0.16 in c:\\users\\jj0sh\\anaconda3\\lib\\site-packages (from ipython>=4.0.0->ipywidgets>=7.5.1->ydata-profiling[notebook]) (0.18.1)\n",
      "Requirement already satisfied: jsonschema>=2.6 in c:\\users\\jj0sh\\anaconda3\\lib\\site-packages (from nbformat>=4.2.0->ipywidgets>=7.5.1->ydata-profiling[notebook]) (4.16.0)\n",
      "Requirement already satisfied: fastjsonschema in c:\\users\\jj0sh\\anaconda3\\lib\\site-packages (from nbformat>=4.2.0->ipywidgets>=7.5.1->ydata-profiling[notebook]) (2.16.2)\n",
      "Requirement already satisfied: six in c:\\users\\jj0sh\\anaconda3\\lib\\site-packages (from patsy>=0.5.2->statsmodels<0.14,>=0.13.2->ydata-profiling[notebook]) (1.16.0)\n",
      "Requirement already satisfied: notebook>=4.4.1 in c:\\users\\jj0sh\\anaconda3\\lib\\site-packages (from widgetsnbextension~=3.5.0->ipywidgets>=7.5.1->ydata-profiling[notebook]) (6.4.12)\n",
      "Requirement already satisfied: PyWavelets in c:\\users\\jj0sh\\anaconda3\\lib\\site-packages (from imagehash->visions[type_image_path]==0.7.5->ydata-profiling[notebook]) (1.3.0)\n",
      "Requirement already satisfied: parso<0.9.0,>=0.8.0 in c:\\users\\jj0sh\\anaconda3\\lib\\site-packages (from jedi>=0.16->ipython>=4.0.0->ipywidgets>=7.5.1->ydata-profiling[notebook]) (0.8.3)\n",
      "Requirement already satisfied: pyrsistent!=0.17.0,!=0.17.1,!=0.17.2,>=0.14.0 in c:\\users\\jj0sh\\anaconda3\\lib\\site-packages (from jsonschema>=2.6->nbformat>=4.2.0->ipywidgets>=7.5.1->ydata-profiling[notebook]) (0.18.0)\n",
      "Requirement already satisfied: nbconvert>=5 in c:\\users\\jj0sh\\anaconda3\\lib\\site-packages (from notebook>=4.4.1->widgetsnbextension~=3.5.0->ipywidgets>=7.5.1->ydata-profiling[notebook]) (6.4.4)\n",
      "Requirement already satisfied: argon2-cffi in c:\\users\\jj0sh\\anaconda3\\lib\\site-packages (from notebook>=4.4.1->widgetsnbextension~=3.5.0->ipywidgets>=7.5.1->ydata-profiling[notebook]) (21.3.0)\n",
      "Requirement already satisfied: prometheus-client in c:\\users\\jj0sh\\anaconda3\\lib\\site-packages (from notebook>=4.4.1->widgetsnbextension~=3.5.0->ipywidgets>=7.5.1->ydata-profiling[notebook]) (0.14.1)\n",
      "Requirement already satisfied: terminado>=0.8.3 in c:\\users\\jj0sh\\anaconda3\\lib\\site-packages (from notebook>=4.4.1->widgetsnbextension~=3.5.0->ipywidgets>=7.5.1->ydata-profiling[notebook]) (0.13.1)\n",
      "Requirement already satisfied: Send2Trash>=1.8.0 in c:\\users\\jj0sh\\anaconda3\\lib\\site-packages (from notebook>=4.4.1->widgetsnbextension~=3.5.0->ipywidgets>=7.5.1->ydata-profiling[notebook]) (1.8.0)\n",
      "Requirement already satisfied: wcwidth in c:\\users\\jj0sh\\anaconda3\\lib\\site-packages (from prompt-toolkit!=3.0.0,!=3.0.1,<3.1.0,>=2.0.0->ipython>=4.0.0->ipywidgets>=7.5.1->ydata-profiling[notebook]) (0.2.5)\n",
      "Requirement already satisfied: mistune<2,>=0.8.1 in c:\\users\\jj0sh\\anaconda3\\lib\\site-packages (from nbconvert>=5->notebook>=4.4.1->widgetsnbextension~=3.5.0->ipywidgets>=7.5.1->ydata-profiling[notebook]) (0.8.4)\n",
      "Requirement already satisfied: defusedxml in c:\\users\\jj0sh\\anaconda3\\lib\\site-packages (from nbconvert>=5->notebook>=4.4.1->widgetsnbextension~=3.5.0->ipywidgets>=7.5.1->ydata-profiling[notebook]) (0.7.1)\n",
      "Requirement already satisfied: nbclient<0.6.0,>=0.5.0 in c:\\users\\jj0sh\\anaconda3\\lib\\site-packages (from nbconvert>=5->notebook>=4.4.1->widgetsnbextension~=3.5.0->ipywidgets>=7.5.1->ydata-profiling[notebook]) (0.5.13)\n",
      "Requirement already satisfied: pandocfilters>=1.4.1 in c:\\users\\jj0sh\\anaconda3\\lib\\site-packages (from nbconvert>=5->notebook>=4.4.1->widgetsnbextension~=3.5.0->ipywidgets>=7.5.1->ydata-profiling[notebook]) (1.5.0)\n",
      "Requirement already satisfied: testpath in c:\\users\\jj0sh\\anaconda3\\lib\\site-packages (from nbconvert>=5->notebook>=4.4.1->widgetsnbextension~=3.5.0->ipywidgets>=7.5.1->ydata-profiling[notebook]) (0.6.0)\n",
      "Requirement already satisfied: bleach in c:\\users\\jj0sh\\anaconda3\\lib\\site-packages (from nbconvert>=5->notebook>=4.4.1->widgetsnbextension~=3.5.0->ipywidgets>=7.5.1->ydata-profiling[notebook]) (4.1.0)\n",
      "Requirement already satisfied: beautifulsoup4 in c:\\users\\jj0sh\\anaconda3\\lib\\site-packages (from nbconvert>=5->notebook>=4.4.1->widgetsnbextension~=3.5.0->ipywidgets>=7.5.1->ydata-profiling[notebook]) (4.11.1)\n",
      "Requirement already satisfied: jupyterlab-pygments in c:\\users\\jj0sh\\anaconda3\\lib\\site-packages (from nbconvert>=5->notebook>=4.4.1->widgetsnbextension~=3.5.0->ipywidgets>=7.5.1->ydata-profiling[notebook]) (0.1.2)\n",
      "Requirement already satisfied: pywinpty>=1.1.0 in c:\\users\\jj0sh\\anaconda3\\lib\\site-packages (from terminado>=0.8.3->notebook>=4.4.1->widgetsnbextension~=3.5.0->ipywidgets>=7.5.1->ydata-profiling[notebook]) (2.0.2)\n",
      "Requirement already satisfied: argon2-cffi-bindings in c:\\users\\jj0sh\\anaconda3\\lib\\site-packages (from argon2-cffi->notebook>=4.4.1->widgetsnbextension~=3.5.0->ipywidgets>=7.5.1->ydata-profiling[notebook]) (21.2.0)\n",
      "Requirement already satisfied: cffi>=1.0.1 in c:\\users\\jj0sh\\anaconda3\\lib\\site-packages (from argon2-cffi-bindings->argon2-cffi->notebook>=4.4.1->widgetsnbextension~=3.5.0->ipywidgets>=7.5.1->ydata-profiling[notebook]) (1.15.1)\n",
      "Requirement already satisfied: soupsieve>1.2 in c:\\users\\jj0sh\\anaconda3\\lib\\site-packages (from beautifulsoup4->nbconvert>=5->notebook>=4.4.1->widgetsnbextension~=3.5.0->ipywidgets>=7.5.1->ydata-profiling[notebook]) (2.3.1)\n",
      "Requirement already satisfied: webencodings in c:\\users\\jj0sh\\anaconda3\\lib\\site-packages (from bleach->nbconvert>=5->notebook>=4.4.1->widgetsnbextension~=3.5.0->ipywidgets>=7.5.1->ydata-profiling[notebook]) (0.5.1)\n",
      "Requirement already satisfied: pycparser in c:\\users\\jj0sh\\anaconda3\\lib\\site-packages (from cffi>=1.0.1->argon2-cffi-bindings->argon2-cffi->notebook>=4.4.1->widgetsnbextension~=3.5.0->ipywidgets>=7.5.1->ydata-profiling[notebook]) (2.21)\n",
      "Installing collected packages: ydata-profiling\n",
      "Successfully installed ydata-profiling-4.0.0\n"
     ]
    },
    {
     "name": "stderr",
     "output_type": "stream",
     "text": [
      "Enabling notebook extension jupyter-js-widgets/extension...\n",
      "      - Validating: ok\n"
     ]
    }
   ],
   "source": [
    "\n",
    "import sys\n",
    "!{sys.executable} -m pip install -U ydata-profiling[notebook]\n",
    "!jupyter nbextension enable --py widgetsnbextension"
   ]
  },
  {
   "cell_type": "code",
   "execution_count": 4,
   "metadata": {},
   "outputs": [],
   "source": [
    "import pandas as pd\n",
    "from ydata_profiling import ProfileReport"
   ]
  },
  {
   "cell_type": "code",
   "execution_count": null,
   "metadata": {},
   "outputs": [],
   "source": []
  },
  {
   "cell_type": "code",
   "execution_count": null,
   "metadata": {},
   "outputs": [],
   "source": [
    "profile = ProfileReport(df, title=\"Pandas Profiling Report\")\n",
    "profile.to_widgets()"
   ]
  }
 ],
 "metadata": {
  "kernelspec": {
   "display_name": "base",
   "language": "python",
   "name": "python3"
  },
  "language_info": {
   "codemirror_mode": {
    "name": "ipython",
    "version": 3
   },
   "file_extension": ".py",
   "mimetype": "text/x-python",
   "name": "python",
   "nbconvert_exporter": "python",
   "pygments_lexer": "ipython3",
   "version": "3.9.13"
  },
  "orig_nbformat": 4,
  "vscode": {
   "interpreter": {
    "hash": "abbdeca80f6970c053bb737fa801fdaec193b8d44d3081d97b6fee3c1c2de091"
   }
  }
 },
 "nbformat": 4,
 "nbformat_minor": 2
}
